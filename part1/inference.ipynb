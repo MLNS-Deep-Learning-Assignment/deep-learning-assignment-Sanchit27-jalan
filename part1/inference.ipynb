{
 "cells": [
  {
   "cell_type": "code",
   "execution_count": 1,
   "metadata": {},
   "outputs": [],
   "source": [
    "import numpy as np\n",
    "import torch\n",
    "from torch.utils.data import DataLoader, TensorDataset\n",
    "import torch.nn as nn\n",
    "import torch.nn.functional as F\n",
    "import torch.optim as optim\n",
    "import wandb"
   ]
  },
  {
   "cell_type": "code",
   "execution_count": 2,
   "metadata": {},
   "outputs": [],
   "source": [
    "data1 = np.load('data1.npy')\n",
    "lab1 = np.load('lab1.npy')\n",
    "data0 = np.load('data0.npy')\n",
    "lab0 = np.load('lab0.npy')\n",
    "data2 = np.load('data2.npy')\n",
    "lab2 = np.load('lab2.npy')\n",
    "total_data=np.concatenate((data0,data1,data2),axis=0)\n",
    "total_lab=np.concatenate((lab0,lab1,lab2),axis=0)"
   ]
  },
  {
   "cell_type": "code",
   "execution_count": 3,
   "metadata": {},
   "outputs": [],
   "source": [
    "total_size = len(total_data)\n",
    "train_size = int(0.8 * total_size)\n",
    "val_size = int(0.1 * total_size)\n",
    "test_size = total_size - train_size - val_size\n",
    "train_data = total_data[:train_size]\n",
    "train_lab=total_lab[:train_size]\n",
    "val_data = total_data[train_size:train_size + val_size]\n",
    "val_lab=total_lab[train_size:train_size + val_size]\n",
    "test_data = total_data[train_size + val_size:]\n",
    "test_lab=total_lab[train_size + val_size:]\n"
   ]
  },
  {
   "cell_type": "code",
   "execution_count": 4,
   "metadata": {},
   "outputs": [
    {
     "name": "stdout",
     "output_type": "stream",
     "text": [
      "Batch data shape: torch.Size([2048, 1, 40, 168])\n",
      "Batch labels shape: torch.Size([2048])\n"
     ]
    }
   ],
   "source": [
    "train_data = torch.tensor(train_data, dtype=torch.float32)\n",
    "train_lab = torch.tensor(train_lab, dtype=torch.long)\n",
    "\n",
    "val_data = torch.tensor(val_data, dtype=torch.float32)\n",
    "val_lab = torch.tensor(val_lab, dtype=torch.long)\n",
    "\n",
    "test_data = torch.tensor(test_data, dtype=torch.float32)\n",
    "test_lab = torch.tensor(test_lab, dtype=torch.long)\n",
    "\n",
    "# Add channel dimension (1 for grayscale images)\n",
    "train_data = train_data.unsqueeze(1)  # Shape becomes [num_samples, 1, height, width]\n",
    "val_data = val_data.unsqueeze(1)\n",
    "test_data = test_data.unsqueeze(1)\n",
    "\n",
    "# Create datasets\n",
    "train_dataset = TensorDataset(train_data, train_lab)\n",
    "val_dataset = TensorDataset(val_data, val_lab)\n",
    "test_dataset = TensorDataset(test_data, test_lab)\n",
    "\n",
    "# Define data loaders\n",
    "batch_size = 2048\n",
    "train_loader = DataLoader(train_dataset, batch_size=batch_size, shuffle=True)\n",
    "val_loader = DataLoader(val_dataset, batch_size=batch_size, shuffle=False)\n",
    "test_loader = DataLoader(test_dataset, batch_size=batch_size, shuffle=False)\n",
    "\n",
    "# Check a single batch\n",
    "for batch_data, batch_labels in train_loader:\n",
    "    print(\"Batch data shape:\", batch_data.shape)  # Should be [batch_size, 1, height, width]\n",
    "    print(\"Batch labels shape:\", batch_labels.shape)  # Should be [batch_size]\n",
    "    break"
   ]
  },
  {
   "cell_type": "code",
   "execution_count": 5,
   "metadata": {},
   "outputs": [],
   "source": [
    "class ConvBlock(nn.Module):\n",
    "    def __init__(self, in_channels, out_channels):\n",
    "        super(ConvBlock, self).__init__()\n",
    "        self.conv = nn.Conv2d(in_channels, out_channels, kernel_size=3, padding=1)\n",
    "        self.bn = nn.BatchNorm2d(out_channels)\n",
    "\n",
    "    def forward(self, x):\n",
    "        x = self.conv(x)\n",
    "        x = self.bn(x)\n",
    "        return F.relu(x)\n",
    "\n",
    "class CNNModel(nn.Module):\n",
    "    def __init__(self, input_shape):\n",
    "        super(CNNModel, self).__init__()\n",
    "        self.block1 = ConvBlock(1, 32)\n",
    "        self.block2 = ConvBlock(32, 64)\n",
    "\n",
    "        self.pool = nn.MaxPool2d(kernel_size=2, stride=2)\n",
    "\n",
    "        # Calculate the flattened size dynamically based on the input shape\n",
    "        with torch.no_grad():\n",
    "            dummy_input = torch.zeros(1, *input_shape)  # Batch size of 1 for testing\n",
    "            flattened_size = self._get_flattened_size(dummy_input)\n",
    "\n",
    "        self.fc1 = nn.Linear(flattened_size, 128)\n",
    "        self.fc2 = nn.Linear(128, 1)  # Output a single value for regression\n",
    "\n",
    "        self.dropout = nn.Dropout(0.5)\n",
    "\n",
    "    def _get_flattened_size(self, x):\n",
    "        x = self.pool(self.block1(x))\n",
    "        x = self.pool(self.block2(x))\n",
    "        return x.view(-1).size(0)\n",
    "\n",
    "    def forward(self, x):\n",
    "        x = self.pool(self.block1(x))\n",
    "        x = self.pool(self.block2(x))\n",
    "\n",
    "        # Flatten for fully connected layers\n",
    "        x = x.view(x.size(0), -1)\n",
    "\n",
    "        x = F.relu(self.fc1(x))\n",
    "        x = self.dropout(x)\n",
    "        x = self.fc2(x)  # Output shape: [batch_size, 1]\n",
    "        return x\n"
   ]
  },
  {
   "cell_type": "code",
   "execution_count": 6,
   "metadata": {},
   "outputs": [
    {
     "name": "stderr",
     "output_type": "stream",
     "text": [
      "/tmp/ipykernel_13610/2099716114.py:4: FutureWarning: You are using `torch.load` with `weights_only=False` (the current default value), which uses the default pickle module implicitly. It is possible to construct malicious pickle data which will execute arbitrary code during unpickling (See https://github.com/pytorch/pytorch/blob/main/SECURITY.md#untrusted-models for more details). In a future release, the default value for `weights_only` will be flipped to `True`. This limits the functions that could be executed during unpickling. Arbitrary objects will no longer be allowed to be loaded via this mode unless they are explicitly allowlisted by the user via `torch.serialization.add_safe_globals`. We recommend you start setting `weights_only=True` for any use case where you don't have full control of the loaded file. Please open an issue on GitHub for any issues related to this experimental feature.\n",
      "  model.load_state_dict(torch.load(\"regression_model.pth\", map_location=device))\n"
     ]
    },
    {
     "data": {
      "text/plain": [
       "CNNModel(\n",
       "  (block1): ConvBlock(\n",
       "    (conv): Conv2d(1, 32, kernel_size=(3, 3), stride=(1, 1), padding=(1, 1))\n",
       "    (bn): BatchNorm2d(32, eps=1e-05, momentum=0.1, affine=True, track_running_stats=True)\n",
       "  )\n",
       "  (block2): ConvBlock(\n",
       "    (conv): Conv2d(32, 64, kernel_size=(3, 3), stride=(1, 1), padding=(1, 1))\n",
       "    (bn): BatchNorm2d(64, eps=1e-05, momentum=0.1, affine=True, track_running_stats=True)\n",
       "  )\n",
       "  (pool): MaxPool2d(kernel_size=2, stride=2, padding=0, dilation=1, ceil_mode=False)\n",
       "  (fc1): Linear(in_features=26880, out_features=128, bias=True)\n",
       "  (fc2): Linear(in_features=128, out_features=1, bias=True)\n",
       "  (dropout): Dropout(p=0.5, inplace=False)\n",
       ")"
      ]
     },
     "execution_count": 6,
     "metadata": {},
     "output_type": "execute_result"
    }
   ],
   "source": [
    "device = torch.device(\"cuda\" if torch.cuda.is_available() else \"cpu\")\n",
    "input_shape = (1, 40, 168) \n",
    "model = CNNModel(input_shape)\n",
    "model.load_state_dict(torch.load(\"regression_model.pth\", map_location=device))\n",
    "model.to(device)\n",
    "model.eval()\n"
   ]
  },
  {
   "cell_type": "code",
   "execution_count": 7,
   "metadata": {},
   "outputs": [],
   "source": [
    "def test_model(model, test_loader):\n",
    "    model.eval()\n",
    "    device = torch.device(\"cuda\" if torch.cuda.is_available() else \"cpu\")\n",
    "    predictions = []\n",
    "    targets = []\n",
    "\n",
    "    with torch.no_grad():\n",
    "        for images, labels in test_loader:\n",
    "            images, labels = images.to(device), labels.to(device).float()\n",
    "            outputs = model(images).squeeze(1)  # Flatten outputs to [batch_size]\n",
    "\n",
    "            predictions.extend(outputs.cpu().numpy())\n",
    "            targets.extend(labels.cpu().numpy())\n",
    "\n",
    "    rounded_predictions = np.round(predictions)  # Round predictions to nearest integer\n",
    "\n",
    "    # Calculate accuracy\n",
    "    correct_predictions = np.sum(rounded_predictions == targets)\n",
    "    accuracy = correct_predictions / len(targets) * 100\n",
    "\n",
    "    print(f\"Accuracy: {accuracy:.2f}%\")\n"
   ]
  },
  {
   "cell_type": "code",
   "execution_count": 8,
   "metadata": {},
   "outputs": [
    {
     "name": "stdout",
     "output_type": "stream",
     "text": [
      "Accuracy: 7.97%\n"
     ]
    }
   ],
   "source": [
    "test_model(model, test_loader)\n"
   ]
  }
 ],
 "metadata": {
  "kernelspec": {
   "display_name": "sanchit",
   "language": "python",
   "name": "python3"
  },
  "language_info": {
   "codemirror_mode": {
    "name": "ipython",
    "version": 3
   },
   "file_extension": ".py",
   "mimetype": "text/x-python",
   "name": "python",
   "nbconvert_exporter": "python",
   "pygments_lexer": "ipython3",
   "version": "3.11.11"
  }
 },
 "nbformat": 4,
 "nbformat_minor": 2
}
